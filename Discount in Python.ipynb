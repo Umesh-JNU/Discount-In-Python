{
 "cells": [
  {
   "cell_type": "code",
   "execution_count": 47,
   "id": "unique-complement",
   "metadata": {
    "ExecuteTime": {
     "end_time": "2021-04-19T05:58:46.574051Z",
     "start_time": "2021-04-19T05:58:46.384078Z"
    }
   },
   "outputs": [],
   "source": [
    "from random import sample\n",
    "from functools import partial\n",
    "import re"
   ]
  },
  {
   "cell_type": "code",
   "execution_count": 58,
   "id": "buried-crystal",
   "metadata": {
    "ExecuteTime": {
     "end_time": "2021-04-19T06:06:34.400479Z",
     "start_time": "2021-04-19T06:06:34.390485Z"
    }
   },
   "outputs": [],
   "source": [
    "def get_K_mer(read, K):\n",
    "    bins = {}\n",
    "    for idx in range(len(read)-K+1):         # total number of k-mers = L - K + 1 ; L = len(read)\n",
    "        k_mer = read[idx:idx+K]              # slicing the read to get k-mer\n",
    "        if k_mer not in bins:\n",
    "            bins[k_mer]=[]\n",
    "        bins[k_mer].append(idx)\n",
    "#     print(bins)\n",
    "    return bins"
   ]
  },
  {
   "cell_type": "code",
   "execution_count": 2,
   "id": "nonprofit-brazilian",
   "metadata": {
    "ExecuteTime": {
     "end_time": "2021-04-16T13:55:55.270583Z",
     "start_time": "2021-04-16T13:55:55.261592Z"
    }
   },
   "outputs": [],
   "source": [
    "def get_M_mer(read, K, M):\n",
    "    m_mers = {'A':[], 'C':[], 'G':[], 'T':[]}\n",
    "    for k_mer in k_mer_bins:\n",
    "        for i in range(K-M+1):\n",
    "            m_mers[k_mer[i]].append(k_mer[i:i+M])\n",
    "    return m_mers"
   ]
  },
  {
   "cell_type": "code",
   "execution_count": 5,
   "id": "pregnant-document",
   "metadata": {
    "ExecuteTime": {
     "end_time": "2021-04-16T13:56:21.048427Z",
     "start_time": "2021-04-16T13:56:21.043428Z"
    }
   },
   "outputs": [],
   "source": [
    "def get_K_M_mers(filename = data_file, K = k, M = m):\n",
    "    k_mer_bins = get_K_mer(filename, K)\n",
    "    \n",
    "    return k_mer_bins, get_M_mer(k_mer_bins, K, M)"
   ]
  },
  {
   "cell_type": "code",
   "execution_count": null,
   "id": "domestic-referral",
   "metadata": {
    "ExecuteTime": {
     "end_time": "2021-04-16T14:09:54.794379Z",
     "start_time": "2021-04-16T14:09:51.295410Z"
    },
    "scrolled": true
   },
   "outputs": [],
   "source": [
    "if __name__==\"__main__\":\n",
    "    # file_name = input('Enter file : ')\n",
    "    file_name = \"Discount/testData/small.fasta\"\n",
    "    # file_name = \"Discount/testData/SRR094926_10k.fasta\"\n",
    "    file1 = open(file_name)\n",
    "    lines = file1.readlines()\n",
    "    file1.close()\n",
    "    \n",
    "    k, m = map(int, input(\"Enter k and m : \").split())\n",
    "    \n",
    "    k_mer_list = []\n",
    "    for line in lines:\n",
    "        if line[0]!=\">\":\n",
    "            print(line.strip('\\n'))\n",
    "            k_mer_list.append(get_K_mer(line.strip('\\n'), k))\n",
    "            \n",
    "#     k_m_mersabs = get_K_M_mers(filename = data_file, K = k, M = m)"
   ]
  },
  {
   "cell_type": "code",
   "execution_count": null,
   "id": "peripheral-entrepreneur",
   "metadata": {
    "ExecuteTime": {
     "end_time": "2021-04-16T14:08:53.820051Z",
     "start_time": "2021-04-16T14:08:53.798063Z"
    },
    "scrolled": false
   },
   "outputs": [],
   "source": [
    "k_mer_list"
   ]
  },
  {
   "cell_type": "code",
   "execution_count": 14,
   "id": "respiratory-disposal",
   "metadata": {
    "ExecuteTime": {
     "end_time": "2021-04-16T14:11:38.180660Z",
     "start_time": "2021-04-16T14:11:38.172681Z"
    }
   },
   "outputs": [
    {
     "data": {
      "text/plain": [
       "92"
      ]
     },
     "execution_count": 14,
     "metadata": {},
     "output_type": "execute_result"
    }
   ],
   "source": [
    "len(k_mer_list[1])"
   ]
  },
  {
   "cell_type": "code",
   "execution_count": 12,
   "id": "responsible-sharp",
   "metadata": {
    "ExecuteTime": {
     "end_time": "2021-04-16T14:10:27.793781Z",
     "start_time": "2021-04-16T14:10:27.784786Z"
    }
   },
   "outputs": [
    {
     "data": {
      "text/plain": [
       "101"
      ]
     },
     "execution_count": 12,
     "metadata": {},
     "output_type": "execute_result"
    }
   ],
   "source": [
    "len(\"TGGCGTCATTTTCCCCAATCATAGACTGTTGAAAGTGAACAAAACTGATGACTATCGTGCCACATTGATTGTTGTCGGTGCCTCGCTTCTGAACGACCCCT\")"
   ]
  },
  {
   "cell_type": "code",
   "execution_count": null,
   "id": "cardiovascular-specific",
   "metadata": {
    "ExecuteTime": {
     "end_time": "2021-04-17T23:39:52.532372Z",
     "start_time": "2021-04-17T23:39:52.504380Z"
    },
    "scrolled": false
   },
   "outputs": [],
   "source": [
    "seq = [\"TGGCGTCATTTTCCCCAATCATAGACTGTTGAAAGTGAACAAAACTGATGACTATCGTGCCACATTGATTGTTGTCGGTGCCTCGCTTCTGAACGACCCCT\",\"CCCGAATACAAAATTGGTCTTTGGCGAAACGATTGGAAACCCGGCGCTTGGCGTTCTGGATTTCGAAAAGTTCTCGAAGCTTGCCAAGGAATTCGATGTGC\"]\n",
    "res = map(partial(get_K_mer, K=55), seq)\n",
    "list(res)"
   ]
  },
  {
   "cell_type": "code",
   "execution_count": 104,
   "id": "ultimate-brown",
   "metadata": {
    "ExecuteTime": {
     "end_time": "2021-04-20T04:10:31.417113Z",
     "start_time": "2021-04-20T04:10:29.661498Z"
    }
   },
   "outputs": [
    {
     "name": "stdout",
     "output_type": "stream",
     "text": [
      "Enter K and M :5 3\n",
      "Read : TGGCGTCATTTTCCCCAATCA\n",
      "{'TGGCG': [0], 'GGCGT': [1], 'GCGTC': [2], 'CGTCA': [3], 'GTCAT': [4], 'TCATT': [5], 'CATTT': [6], 'ATTTT': [7], 'TTTTC': [8], 'TTTCC': [9], 'TTCCC': [10], 'TCCCC': [11], 'CCCCA': [12], 'CCCAA': [13], 'CCAAT': [14], 'CAATC': [15], 'AATCA': [16]}\n",
      "Read : TAGACTGTTGAAAGTGAACAAAACTGATGA\n",
      "{'TAGAC': [0], 'AGACT': [1], 'GACTG': [2], 'ACTGT': [3], 'CTGTT': [4], 'TGTTG': [5], 'GTTGA': [6], 'TTGAA': [7], 'TGAAA': [8], 'GAAAG': [9], 'AAAGT': [10], 'AAGTG': [11], 'AGTGA': [12], 'GTGAA': [13], 'TGAAC': [14], 'GAACA': [15], 'AACAA': [16], 'ACAAA': [17], 'CAAAA': [18], 'AAAAC': [19], 'AAACT': [20], 'AACTG': [21], 'ACTGA': [22], 'CTGAT': [23], 'TGATG': [24], 'GATGA': [25]}\n",
      "M-mers -\n",
      "read : TGGCGTCATTTTCCCCAATCA\n",
      "{'A': ['ATT', 'AAT', 'ATC'], 'C': ['CGT', 'CAT', 'CCC', 'CCC', 'CCA', 'CAA'], 'G': ['GGC', 'GCG', 'GTC'], 'T': ['TGG', 'TCA', 'TTT', 'TTT', 'TTC', 'TCC', 'TCA']}\n",
      "read : TAGACTGTTGAAAGTGAACAAAACTGATGA\n",
      "{'A': ['AGA', 'ACT', 'AAA', 'AAG', 'AGT', 'AAC', 'ACA', 'AAA', 'AAA', 'AAC', 'ACT', 'ATG'], 'C': ['CTG', 'CAA', 'CTG'], 'G': ['GAC', 'GTT', 'GAA', 'GTG', 'GAA', 'GAT'], 'T': ['TAG', 'TGT', 'TTG', 'TGA', 'TGA', 'TGA', 'TGA']}\n"
     ]
    }
   ],
   "source": [
    "K, M = map(int, input(\"Enter K and M :\").split())\n",
    "def K_mers(read, K):\n",
    "    bins = {}\n",
    "    for idx in range(len(read)-K+1):         # total number of k-mers = L - K + 1 ; L = len(read)\n",
    "        k_mer = read[idx:idx+K]              # slicing the read to get k-mer\n",
    "        if k_mer not in bins:\n",
    "            bins[k_mer]=[]\n",
    "        bins[k_mer].append(idx)\n",
    "    print(bins)\n",
    "    return bins\n",
    "\n",
    "def M_mers(read, M):\n",
    "    m_mers = {'A':[], 'C':[], 'G':[], 'T':[]}\n",
    "\n",
    "    for i in range(len(read)-M+1):\n",
    "        m_mers[read[i]].append(read[i:i+M])\n",
    "    \n",
    "    print(\"read :\", read)\n",
    "    print(m_mers)\n",
    "    return m_mers\n",
    "\n",
    "def get_K_mer(read):\n",
    "    print(\"Read :\",read)\n",
    "    \n",
    "    K_mers(read, K)\n",
    "\n",
    "def get_M_mer(read):\n",
    "    M_mers(read, M)\n",
    "    \n",
    "read = [\">SRR094926.sra.1\", \"TGGCGTCATTTTCCCCAATCA\", \">>SRR094926.sra.2\", \"TAGACTGTTGAAAGTGAACAAAACTGATGA\"]\n",
    "\n",
    "if __name__==\"__main__\":\n",
    "    \n",
    "    k_mer = list(map(get_K_mer, filter(lambda read: read[0]!=\">\", read)))\n",
    "    print('M-mers -')\n",
    "    m_mer = list(map(get_M_mer, filter(lambda read: read[0]!=\">\", read)))"
   ]
  },
  {
   "cell_type": "code",
   "execution_count": null,
   "id": "amber-italy",
   "metadata": {},
   "outputs": [],
   "source": []
  }
 ],
 "metadata": {
  "kernelspec": {
   "display_name": "Python 3",
   "language": "python",
   "name": "python3"
  },
  "language_info": {
   "codemirror_mode": {
    "name": "ipython",
    "version": 3
   },
   "file_extension": ".py",
   "mimetype": "text/x-python",
   "name": "python",
   "nbconvert_exporter": "python",
   "pygments_lexer": "ipython3",
   "version": "3.9.0"
  }
 },
 "nbformat": 4,
 "nbformat_minor": 5
}
