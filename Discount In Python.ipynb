{
 "cells": [
  {
   "cell_type": "code",
   "execution_count": 1,
   "id": "representative-wisconsin",
   "metadata": {
    "ExecuteTime": {
     "end_time": "2021-04-20T04:12:00.398377Z",
     "start_time": "2021-04-20T04:11:57.574332Z"
    }
   },
   "outputs": [
    {
     "name": "stdout",
     "output_type": "stream",
     "text": [
      "Enter K and M :5 3\n",
      "Read : TGGCGTCATTTTCCCCAATCA\n",
      "{'TGGCG': [0], 'GGCGT': [1], 'GCGTC': [2], 'CGTCA': [3], 'GTCAT': [4], 'TCATT': [5], 'CATTT': [6], 'ATTTT': [7], 'TTTTC': [8], 'TTTCC': [9], 'TTCCC': [10], 'TCCCC': [11], 'CCCCA': [12], 'CCCAA': [13], 'CCAAT': [14], 'CAATC': [15], 'AATCA': [16]}\n",
      "Read : TAGACTGTTGAAAGTGAACAAAACTGATGA\n",
      "{'TAGAC': [0], 'AGACT': [1], 'GACTG': [2], 'ACTGT': [3], 'CTGTT': [4], 'TGTTG': [5], 'GTTGA': [6], 'TTGAA': [7], 'TGAAA': [8], 'GAAAG': [9], 'AAAGT': [10], 'AAGTG': [11], 'AGTGA': [12], 'GTGAA': [13], 'TGAAC': [14], 'GAACA': [15], 'AACAA': [16], 'ACAAA': [17], 'CAAAA': [18], 'AAAAC': [19], 'AAACT': [20], 'AACTG': [21], 'ACTGA': [22], 'CTGAT': [23], 'TGATG': [24], 'GATGA': [25]}\n",
      "M-mers -\n",
      "read : TGGCGTCATTTTCCCCAATCA\n",
      "{'A': ['ATT', 'AAT', 'ATC'], 'C': ['CGT', 'CAT', 'CCC', 'CCC', 'CCA', 'CAA'], 'G': ['GGC', 'GCG', 'GTC'], 'T': ['TGG', 'TCA', 'TTT', 'TTT', 'TTC', 'TCC', 'TCA']}\n",
      "read : TAGACTGTTGAAAGTGAACAAAACTGATGA\n",
      "{'A': ['AGA', 'ACT', 'AAA', 'AAG', 'AGT', 'AAC', 'ACA', 'AAA', 'AAA', 'AAC', 'ACT', 'ATG'], 'C': ['CTG', 'CAA', 'CTG'], 'G': ['GAC', 'GTT', 'GAA', 'GTG', 'GAA', 'GAT'], 'T': ['TAG', 'TGT', 'TTG', 'TGA', 'TGA', 'TGA', 'TGA']}\n"
     ]
    }
   ],
   "source": [
    "K, M = map(int, input(\"Enter K and M :\").split())\n",
    "def K_mers(read, K):\n",
    "    bins = {}\n",
    "    for idx in range(len(read)-K+1):         # total number of k-mers = L - K + 1 ; L = len(read)\n",
    "        k_mer = read[idx:idx+K]              # slicing the read to get k-mer\n",
    "        if k_mer not in bins:\n",
    "            bins[k_mer]=[]\n",
    "        bins[k_mer].append(idx)\n",
    "    print(bins)\n",
    "    return bins\n",
    "\n",
    "def M_mers(read, M):\n",
    "    m_mers = {'A':[], 'C':[], 'G':[], 'T':[]}\n",
    "\n",
    "    for i in range(len(read)-M+1):\n",
    "        m_mers[read[i]].append(read[i:i+M])\n",
    "    \n",
    "    print(\"read :\", read)\n",
    "    print(m_mers)\n",
    "    return m_mers\n",
    "\n",
    "def get_K_mer(read):\n",
    "    print(\"Read :\",read)\n",
    "    \n",
    "    K_mers(read, K)\n",
    "\n",
    "def get_M_mer(read):\n",
    "    M_mers(read, M)\n",
    "    \n",
    "read = [\">SRR094926.sra.1\", \"TGGCGTCATTTTCCCCAATCA\", \">SRR094926.sra.2\", \"TAGACTGTTGAAAGTGAACAAAACTGATGA\"]\n",
    "\n",
    "if __name__==\"__main__\":\n",
    "    \n",
    "    k_mer = list(map(get_K_mer, filter(lambda read: read[0]!=\">\", read)))\n",
    "    print('M-mers -')\n",
    "    m_mer = list(map(get_M_mer, filter(lambda read: read[0]!=\">\", read)))"
   ]
  },
  {
   "cell_type": "code",
   "execution_count": null,
   "id": "collectible-happiness",
   "metadata": {},
   "outputs": [],
   "source": []
  }
 ],
 "metadata": {
  "kernelspec": {
   "display_name": "Python 3",
   "language": "python",
   "name": "python3"
  },
  "language_info": {
   "codemirror_mode": {
    "name": "ipython",
    "version": 3
   },
   "file_extension": ".py",
   "mimetype": "text/x-python",
   "name": "python",
   "nbconvert_exporter": "python",
   "pygments_lexer": "ipython3",
   "version": "3.9.0"
  }
 },
 "nbformat": 4,
 "nbformat_minor": 5
}
